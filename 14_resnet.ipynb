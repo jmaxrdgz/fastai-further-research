{
  "cells": [
    {
      "cell_type": "code",
      "execution_count": null,
      "metadata": {
        "id": "Qr-F6yCkVK-F"
      },
      "outputs": [],
      "source": [
        "! pip install -Uqq fastbook\n",
        "import fastbook\n",
        "fastbook.setup_book()"
      ]
    },
    {
      "cell_type": "code",
      "execution_count": null,
      "metadata": {
        "id": "hVt-4ZzKVtDs"
      },
      "outputs": [],
      "source": [
        "from fastbook import *\n",
        "from fastai.vision.all import *\n",
        "from torchvision.transforms import Grayscale, ToTensor\n",
        "import pandas as pd"
      ]
    },
    {
      "cell_type": "markdown",
      "metadata": {
        "id": "MBx38rpy8T44"
      },
      "source": [
        "# Exercise 1\n",
        "\n",
        "Try creating a fully convolutional net with adaptive average pooling for MNIST (note that you'll need fewer stride-2 layers). How does it compare to a network without such a pooling layer?"
      ]
    },
    {
      "cell_type": "markdown",
      "metadata": {
        "id": "6Ytl8d6Fk5QJ"
      },
      "source": [
        "## Import & explore dataset sample"
      ]
    },
    {
      "cell_type": "code",
      "execution_count": null,
      "metadata": {
        "colab": {
          "base_uri": "https://localhost:8080/",
          "height": 55
        },
        "id": "QRbA7yC98Ndf",
        "outputId": "42d71e7b-e413-400f-d965-e027c515807e"
      },
      "outputs": [
        {
          "output_type": "display_data",
          "data": {
            "text/plain": [
              "<IPython.core.display.HTML object>"
            ],
            "text/html": [
              "\n",
              "<style>\n",
              "    /* Turns off some styling */\n",
              "    progress {\n",
              "        /* gets rid of default border in Firefox and Opera. */\n",
              "        border: none;\n",
              "        /* Needs to be in here for Safari polyfill so background images work as expected. */\n",
              "        background-size: auto;\n",
              "    }\n",
              "    progress:not([value]), progress:not([value])::-webkit-progress-bar {\n",
              "        background: repeating-linear-gradient(45deg, #7e7e7e, #7e7e7e 10px, #5c5c5c 10px, #5c5c5c 20px);\n",
              "    }\n",
              "    .progress-bar-interrupted, .progress-bar-interrupted::-webkit-progress-bar {\n",
              "        background: #F44336;\n",
              "    }\n",
              "</style>\n"
            ]
          },
          "metadata": {}
        },
        {
          "output_type": "display_data",
          "data": {
            "text/plain": [
              "<IPython.core.display.HTML object>"
            ],
            "text/html": [
              "\n",
              "    <div>\n",
              "      <progress value='3219456' class='' max='3214948' style='width:300px; height:20px; vertical-align: middle;'></progress>\n",
              "      100.14% [3219456/3214948 00:00&lt;00:00]\n",
              "    </div>\n",
              "    "
            ]
          },
          "metadata": {}
        },
        {
          "output_type": "execute_result",
          "data": {
            "text/plain": [
              "(#3) [Path('train'),Path('labels.csv'),Path('valid')]"
            ]
          },
          "metadata": {},
          "execution_count": 3
        }
      ],
      "source": [
        "path = untar_data(URLs.MNIST_SAMPLE)\n",
        "Path.BASE_PATH = path\n",
        "path.ls()"
      ]
    },
    {
      "cell_type": "code",
      "execution_count": null,
      "metadata": {
        "colab": {
          "base_uri": "https://localhost:8080/"
        },
        "id": "nJ5Nix20WdQX",
        "outputId": "953051b6-cf35-4264-b266-c904a1a8aac8"
      },
      "outputs": [
        {
          "output_type": "execute_result",
          "data": {
            "text/plain": [
              "(28, 28)"
            ]
          },
          "metadata": {},
          "execution_count": 7
        }
      ],
      "source": [
        "three_path = (path/'train'/'3').ls().sorted()\n",
        "image = Image.open(three_path[1])\n",
        "array(image).shape"
      ]
    },
    {
      "cell_type": "code",
      "execution_count": null,
      "metadata": {
        "colab": {
          "base_uri": "https://localhost:8080/"
        },
        "id": "NEyWqyPSZHdF",
        "outputId": "3e796fc7-7e8c-42df-b44f-cde77d697e02"
      },
      "outputs": [
        {
          "output_type": "stream",
          "name": "stdout",
          "text": [
            "/root/.fastai/data/mnist_sample/train/3 : 6131\n",
            "/root/.fastai/data/mnist_sample/train/7 : 6131\n"
          ]
        }
      ],
      "source": [
        "for num_path in (path/'train').ls():\n",
        "  print(f\"{num_path} : {len((path/'train'/'3').ls().sorted())}\")"
      ]
    },
    {
      "cell_type": "markdown",
      "metadata": {
        "id": "dvGzYHqwk-zS"
      },
      "source": [
        "## Creating dataloaders"
      ]
    },
    {
      "cell_type": "code",
      "execution_count": null,
      "metadata": {
        "id": "A3hjw-szlNmL"
      },
      "outputs": [],
      "source": [
        "class ToGrayscale(Transform):\n",
        "    def encodes(self, img: PILImage):\n",
        "        return img.convert('L')"
      ]
    },
    {
      "cell_type": "code",
      "execution_count": null,
      "metadata": {
        "id": "CDEAmWoYYBik"
      },
      "outputs": [],
      "source": [
        "dls = ImageDataLoaders.from_folder(\n",
        "    path,\n",
        "    train='train',\n",
        "    valid='valid',\n",
        "    seed=42,\n",
        "    item_tfms=[Resize(28), ToGrayscale()],\n",
        "    batch_tfms=Normalize.from_stats(0.5, 0.5),\n",
        "    bs=64\n",
        ")"
      ]
    },
    {
      "cell_type": "code",
      "execution_count": null,
      "metadata": {
        "colab": {
          "base_uri": "https://localhost:8080/",
          "height": 522
        },
        "id": "sPP68nEraB9B",
        "outputId": "adb38fbc-f885-4a8a-ecd0-c28891a9cefc"
      },
      "outputs": [
        {
          "output_type": "display_data",
          "data": {
            "text/plain": [
              "<Figure size 600x600 with 9 Axes>"
            ],
            "image/png": "[encoded data removed]"
          },
          "metadata": {}
        }
      ],
      "source": [
        "dls.show_batch(max_n=9, figsize=(6, 6), cmap='gray')"
      ]
    },
    {
      "cell_type": "markdown",
      "metadata": {
        "id": "4xMWf29_lHxh"
      },
      "source": [
        "## Model definition"
      ]
    },
    {
      "cell_type": "code",
      "execution_count": null,
      "metadata": {
        "id": "FG9x-1nza_nX"
      },
      "outputs": [],
      "source": [
        "def get_model(nb_classes):\n",
        "  return nn.Sequential(\n",
        "      nn.Conv2d(1, 16, kernel_size=3, stride=2, padding=1),\n",
        "      nn.Conv2d(16, 32, kernel_size=3, stride=2, padding=1),\n",
        "      nn.Conv2d(32, 64, kernel_size=3, stride=2, padding=1),\n",
        "      nn.AdaptiveAvgPool2d(1),\n",
        "      nn.Flatten(),\n",
        "      nn.Linear(64, nb_classes)\n",
        "  )"
      ]
    },
    {
      "cell_type": "markdown",
      "metadata": {
        "id": "bNqXeeI9lJIg"
      },
      "source": [
        "## Training"
      ]
    },
    {
      "cell_type": "code",
      "execution_count": null,
      "metadata": {
        "colab": {
          "base_uri": "https://localhost:8080/",
          "height": 533
        },
        "id": "JXnLD1CAeQWU",
        "outputId": "07afb026-2aad-4069-e104-d4d9d2fa7467"
      },
      "outputs": [
        {
          "output_type": "display_data",
          "data": {
            "text/plain": [
              "<IPython.core.display.HTML object>"
            ],
            "text/html": [
              "\n",
              "<style>\n",
              "    /* Turns off some styling */\n",
              "    progress {\n",
              "        /* gets rid of default border in Firefox and Opera. */\n",
              "        border: none;\n",
              "        /* Needs to be in here for Safari polyfill so background images work as expected. */\n",
              "        background-size: auto;\n",
              "    }\n",
              "    progress:not([value]), progress:not([value])::-webkit-progress-bar {\n",
              "        background: repeating-linear-gradient(45deg, #7e7e7e, #7e7e7e 10px, #5c5c5c 10px, #5c5c5c 20px);\n",
              "    }\n",
              "    .progress-bar-interrupted, .progress-bar-interrupted::-webkit-progress-bar {\n",
              "        background: #F44336;\n",
              "    }\n",
              "</style>\n"
            ]
          },
          "metadata": {}
        },
        {
          "output_type": "display_data",
          "data": {
            "text/plain": [
              "<IPython.core.display.HTML object>"
            ],
            "text/html": []
          },
          "metadata": {}
        },
        {
          "output_type": "stream",
          "name": "stderr",
          "text": [
            "/usr/local/lib/python3.10/dist-packages/fastai/learner.py:53: FutureWarning: You are using `torch.load` with `weights_only=False` (the current default value), which uses the default pickle module implicitly. It is possible to construct malicious pickle data which will execute arbitrary code during unpickling (See https://github.com/pytorch/pytorch/blob/main/SECURITY.md#untrusted-models for more details). In a future release, the default value for `weights_only` will be flipped to `True`. This limits the functions that could be executed during unpickling. Arbitrary objects will no longer be allowed to be loaded via this mode unless they are explicitly allowlisted by the user via `torch.serialization.add_safe_globals`. We recommend you start setting `weights_only=True` for any use case where you don't have full control of the loaded file. Please open an issue on GitHub for any issues related to this experimental feature.\n",
            "  state = torch.load(file, map_location=device, **torch_load_kwargs)\n"
          ]
        },
        {
          "output_type": "execute_result",
          "data": {
            "text/plain": [
              "SuggestedLRs(valley=0.010964781977236271)"
            ]
          },
          "metadata": {},
          "execution_count": 13
        },
        {
          "output_type": "display_data",
          "data": {
            "text/plain": [
              "<Figure size 640x480 with 1 Axes>"
            ],
            "image/png": "[encoded data removed]"
          },
          "metadata": {}
        }
      ],
      "source": [
        "nb_classes = 2\n",
        "\n",
        "learner = Learner(dls, get_model(nb_classes), opt_func=SGD, loss_func=F.cross_entropy, metrics=accuracy)\n",
        "learner.lr_find()"
      ]
    },
    {
      "cell_type": "code",
      "execution_count": null,
      "metadata": {
        "colab": {
          "base_uri": "https://localhost:8080/",
          "height": 206
        },
        "id": "5IqqgZ8Tj7BE",
        "outputId": "658a524c-3412-4d33-f4b2-2722640d5202"
      },
      "outputs": [
        {
          "data": {
            "text/html": [
              "\n",
              "<style>\n",
              "    /* Turns off some styling */\n",
              "    progress {\n",
              "        /* gets rid of default border in Firefox and Opera. */\n",
              "        border: none;\n",
              "        /* Needs to be in here for Safari polyfill so background images work as expected. */\n",
              "        background-size: auto;\n",
              "    }\n",
              "    progress:not([value]), progress:not([value])::-webkit-progress-bar {\n",
              "        background: repeating-linear-gradient(45deg, #7e7e7e, #7e7e7e 10px, #5c5c5c 10px, #5c5c5c 20px);\n",
              "    }\n",
              "    .progress-bar-interrupted, .progress-bar-interrupted::-webkit-progress-bar {\n",
              "        background: #F44336;\n",
              "    }\n",
              "</style>\n"
            ],
            "text/plain": [
              "<IPython.core.display.HTML object>"
            ]
          },
          "metadata": {},
          "output_type": "display_data"
        },
        {
          "data": {
            "text/html": [
              "<table border=\"1\" class=\"dataframe\">\n",
              "  <thead>\n",
              "    <tr style=\"text-align: left;\">\n",
              "      <th>epoch</th>\n",
              "      <th>train_loss</th>\n",
              "      <th>valid_loss</th>\n",
              "      <th>accuracy</th>\n",
              "      <th>time</th>\n",
              "    </tr>\n",
              "  </thead>\n",
              "  <tbody>\n",
              "    <tr>\n",
              "      <td>0</td>\n",
              "      <td>0.676707</td>\n",
              "      <td>0.661188</td>\n",
              "      <td>0.683023</td>\n",
              "      <td>00:22</td>\n",
              "    </tr>\n",
              "    <tr>\n",
              "      <td>1</td>\n",
              "      <td>0.446782</td>\n",
              "      <td>0.339670</td>\n",
              "      <td>0.933759</td>\n",
              "      <td>00:26</td>\n",
              "    </tr>\n",
              "    <tr>\n",
              "      <td>2</td>\n",
              "      <td>0.195052</td>\n",
              "      <td>0.181473</td>\n",
              "      <td>0.944553</td>\n",
              "      <td>00:29</td>\n",
              "    </tr>\n",
              "    <tr>\n",
              "      <td>3</td>\n",
              "      <td>0.169856</td>\n",
              "      <td>0.168105</td>\n",
              "      <td>0.942591</td>\n",
              "      <td>00:35</td>\n",
              "    </tr>\n",
              "    <tr>\n",
              "      <td>4</td>\n",
              "      <td>0.159214</td>\n",
              "      <td>0.166769</td>\n",
              "      <td>0.942591</td>\n",
              "      <td>00:24</td>\n",
              "    </tr>\n",
              "  </tbody>\n",
              "</table>"
            ],
            "text/plain": [
              "<IPython.core.display.HTML object>"
            ]
          },
          "metadata": {},
          "output_type": "display_data"
        }
      ],
      "source": [
        "learner.fit_one_cycle(5, 0.01)"
      ]
    },
    {
      "cell_type": "markdown",
      "metadata": {
        "id": "GCYo5pdGnjy3"
      },
      "source": [
        "We obtain 94% precision after 5 epochs, time to evaluate on full MNIST dataset."
      ]
    },
    {
      "cell_type": "markdown",
      "metadata": {
        "id": "c4nEJDxpluih"
      },
      "source": [
        "## Using full dataset"
      ]
    },
    {
      "cell_type": "code",
      "execution_count": null,
      "metadata": {
        "id": "6Pw1MQuwlmI_"
      },
      "outputs": [],
      "source": [
        "path = untar_data(URLs.MNIST)\n",
        "Path.BASE_PATH = path"
      ]
    },
    {
      "cell_type": "code",
      "execution_count": null,
      "metadata": {
        "colab": {
          "base_uri": "https://localhost:8080/",
          "height": 477
        },
        "id": "8AfmJAMYmPxD",
        "outputId": "c9191757-2018-4e1d-a8f6-cbfafc252689"
      },
      "outputs": [
        {
          "output_type": "display_data",
          "data": {
            "text/plain": [
              "<IPython.core.display.HTML object>"
            ],
            "text/html": [
              "\n",
              "<style>\n",
              "    /* Turns off some styling */\n",
              "    progress {\n",
              "        /* gets rid of default border in Firefox and Opera. */\n",
              "        border: none;\n",
              "        /* Needs to be in here for Safari polyfill so background images work as expected. */\n",
              "        background-size: auto;\n",
              "    }\n",
              "    progress:not([value]), progress:not([value])::-webkit-progress-bar {\n",
              "        background: repeating-linear-gradient(45deg, #7e7e7e, #7e7e7e 10px, #5c5c5c 10px, #5c5c5c 20px);\n",
              "    }\n",
              "    .progress-bar-interrupted, .progress-bar-interrupted::-webkit-progress-bar {\n",
              "        background: #F44336;\n",
              "    }\n",
              "</style>\n"
            ]
          },
          "metadata": {}
        },
        {
          "output_type": "display_data",
          "data": {
            "text/plain": [
              "<IPython.core.display.HTML object>"
            ],
            "text/html": []
          },
          "metadata": {}
        },
        {
          "output_type": "execute_result",
          "data": {
            "text/plain": [
              "SuggestedLRs(valley=0.17378008365631104)"
            ]
          },
          "metadata": {},
          "execution_count": 16
        },
        {
          "output_type": "display_data",
          "data": {
            "text/plain": [
              "<Figure size 640x480 with 1 Axes>"
            ],
            "image/png": "[encoded data removed]"
          },
          "metadata": {}
        }
      ],
      "source": [
        "dls = ImageDataLoaders.from_folder(\n",
        "    path,\n",
        "    train='training',\n",
        "    valid='testing',\n",
        "    seed=42,\n",
        "    item_tfms=[Resize(28), ToGrayscale()],\n",
        "    batch_tfms=Normalize.from_stats(0.5, 0.5),\n",
        "    bs=64\n",
        ")\n",
        "\n",
        "nb_classes = 10\n",
        "\n",
        "learner = Learner(dls, get_model(nb_classes), opt_func=SGD, loss_func=F.cross_entropy, metrics=accuracy)\n",
        "learner.lr_find()"
      ]
    },
    {
      "cell_type": "code",
      "execution_count": null,
      "metadata": {
        "colab": {
          "background_save": true,
          "base_uri": "https://localhost:8080/",
          "height": 158
        },
        "id": "m8S3AzlkmDEl",
        "outputId": "edd29698-52de-4821-b55c-def33d245bdb"
      },
      "outputs": [
        {
          "data": {
            "text/html": [
              "\n",
              "<style>\n",
              "    /* Turns off some styling */\n",
              "    progress {\n",
              "        /* gets rid of default border in Firefox and Opera. */\n",
              "        border: none;\n",
              "        /* Needs to be in here for Safari polyfill so background images work as expected. */\n",
              "        background-size: auto;\n",
              "    }\n",
              "    progress:not([value]), progress:not([value])::-webkit-progress-bar {\n",
              "        background: repeating-linear-gradient(45deg, #7e7e7e, #7e7e7e 10px, #5c5c5c 10px, #5c5c5c 20px);\n",
              "    }\n",
              "    .progress-bar-interrupted, .progress-bar-interrupted::-webkit-progress-bar {\n",
              "        background: #F44336;\n",
              "    }\n",
              "</style>\n"
            ],
            "text/plain": [
              "<IPython.core.display.HTML object>"
            ]
          },
          "metadata": {},
          "output_type": "display_data"
        },
        {
          "data": {
            "text/html": [
              "<table border=\"1\" class=\"dataframe\">\n",
              "  <thead>\n",
              "    <tr style=\"text-align: left;\">\n",
              "      <th>epoch</th>\n",
              "      <th>train_loss</th>\n",
              "      <th>valid_loss</th>\n",
              "      <th>accuracy</th>\n",
              "      <th>time</th>\n",
              "    </tr>\n",
              "  </thead>\n",
              "  <tbody>\n",
              "    <tr>\n",
              "      <td>0</td>\n",
              "      <td>1.611445</td>\n",
              "      <td>1.556832</td>\n",
              "      <td>0.484800</td>\n",
              "      <td>02:23</td>\n",
              "    </tr>\n",
              "    <tr>\n",
              "      <td>1</td>\n",
              "      <td>1.428231</td>\n",
              "      <td>1.418207</td>\n",
              "      <td>0.546300</td>\n",
              "      <td>02:21</td>\n",
              "    </tr>\n",
              "    <tr>\n",
              "      <td>2</td>\n",
              "      <td>1.377181</td>\n",
              "      <td>1.394088</td>\n",
              "      <td>0.559300</td>\n",
              "      <td>02:11</td>\n",
              "    </tr>\n",
              "    <tr>\n",
              "      <td>3</td>\n",
              "      <td>1.351807</td>\n",
              "      <td>1.362250</td>\n",
              "      <td>0.562100</td>\n",
              "      <td>01:55</td>\n",
              "    </tr>\n",
              "    <tr>\n",
              "      <td>4</td>\n",
              "      <td>1.346054</td>\n",
              "      <td>1.357139</td>\n",
              "      <td>0.560300</td>\n",
              "      <td>01:55</td>\n",
              "    </tr>\n",
              "  </tbody>\n",
              "</table>"
            ],
            "text/plain": [
              "<IPython.core.display.HTML object>"
            ]
          },
          "metadata": {},
          "output_type": "display_data"
        }
      ],
      "source": [
        "learner.fit_one_cycle(5, 0.1)"
      ]
    },
    {
      "cell_type": "code",
      "execution_count": null,
      "metadata": {
        "id": "o1HBLsqGo9uU",
        "colab": {
          "base_uri": "https://localhost:8080/",
          "height": 206
        },
        "outputId": "ae558900-b924-4a8b-aa43-e18e5a95f0d2"
      },
      "outputs": [
        {
          "output_type": "display_data",
          "data": {
            "text/plain": [
              "<IPython.core.display.HTML object>"
            ],
            "text/html": [
              "\n",
              "<style>\n",
              "    /* Turns off some styling */\n",
              "    progress {\n",
              "        /* gets rid of default border in Firefox and Opera. */\n",
              "        border: none;\n",
              "        /* Needs to be in here for Safari polyfill so background images work as expected. */\n",
              "        background-size: auto;\n",
              "    }\n",
              "    progress:not([value]), progress:not([value])::-webkit-progress-bar {\n",
              "        background: repeating-linear-gradient(45deg, #7e7e7e, #7e7e7e 10px, #5c5c5c 10px, #5c5c5c 20px);\n",
              "    }\n",
              "    .progress-bar-interrupted, .progress-bar-interrupted::-webkit-progress-bar {\n",
              "        background: #F44336;\n",
              "    }\n",
              "</style>\n"
            ]
          },
          "metadata": {}
        },
        {
          "output_type": "display_data",
          "data": {
            "text/plain": [
              "<IPython.core.display.HTML object>"
            ],
            "text/html": [
              "<table border=\"1\" class=\"dataframe\">\n",
              "  <thead>\n",
              "    <tr style=\"text-align: left;\">\n",
              "      <th>epoch</th>\n",
              "      <th>train_loss</th>\n",
              "      <th>valid_loss</th>\n",
              "      <th>accuracy</th>\n",
              "      <th>time</th>\n",
              "    </tr>\n",
              "  </thead>\n",
              "  <tbody>\n",
              "    <tr>\n",
              "      <td>0</td>\n",
              "      <td>0.362456</td>\n",
              "      <td>0.332105</td>\n",
              "      <td>0.904100</td>\n",
              "      <td>01:57</td>\n",
              "    </tr>\n",
              "    <tr>\n",
              "      <td>1</td>\n",
              "      <td>0.332155</td>\n",
              "      <td>0.310618</td>\n",
              "      <td>0.911000</td>\n",
              "      <td>01:52</td>\n",
              "    </tr>\n",
              "    <tr>\n",
              "      <td>2</td>\n",
              "      <td>0.291237</td>\n",
              "      <td>0.288630</td>\n",
              "      <td>0.917400</td>\n",
              "      <td>01:55</td>\n",
              "    </tr>\n",
              "    <tr>\n",
              "      <td>3</td>\n",
              "      <td>0.297254</td>\n",
              "      <td>0.279058</td>\n",
              "      <td>0.921800</td>\n",
              "      <td>01:56</td>\n",
              "    </tr>\n",
              "    <tr>\n",
              "      <td>4</td>\n",
              "      <td>0.276323</td>\n",
              "      <td>0.274193</td>\n",
              "      <td>0.922300</td>\n",
              "      <td>01:52</td>\n",
              "    </tr>\n",
              "  </tbody>\n",
              "</table>"
            ]
          },
          "metadata": {}
        }
      ],
      "source": [
        "non_adaptive_model = nn.Sequential(\n",
        "      nn.Conv2d(1, 16, kernel_size=3, stride=2, padding=1),\n",
        "      nn.Conv2d(16, 32, kernel_size=3, stride=2, padding=1),\n",
        "      nn.Conv2d(32, 64, kernel_size=3, stride=2, padding=1),\n",
        "      nn.Flatten(),\n",
        "      nn.Linear(64*4*4, nb_classes)\n",
        "  )\n",
        "\n",
        "learner = Learner(dls, non_adaptive_model, opt_func=SGD, loss_func=F.cross_entropy, metrics=accuracy)\n",
        "learner.fit_one_cycle(5, 0.1)"
      ]
    },
    {
      "cell_type": "markdown",
      "metadata": {
        "id": "r-kPN6Bcr6we"
      },
      "source": [
        "In both cases 5 epochs isn't enough to see signs of overfitting.\n",
        "\n",
        "|            | with adaptive pooling | without |\n",
        "|:----------|:----------:|:----------:|\n",
        "| precision (5 epochs) | 56,2% | 92,2% |  \n",
        "  \n",
        "Adaptive average pooling isn't adapted to the MNIST use case as it reduces drastically the features used by the last dense layer to classify the written number."
      ]
    },
    {
      "cell_type": "code",
      "execution_count": null,
      "metadata": {
        "id": "Z6zXjTcYEsLS"
      },
      "outputs": [],
      "source": [
        "learner.export('non_adaptive_model.pkl')"
      ]
    },
    {
      "cell_type": "code",
      "execution_count": null,
      "metadata": {
        "id": "j77sKqaMETMF",
        "colab": {
          "base_uri": "https://localhost:8080/",
          "height": 45
        },
        "outputId": "a0321d8c-95ed-422e-c8db-6860d9340ace"
      },
      "outputs": [
        {
          "output_type": "execute_result",
          "data": {
            "text/plain": [
              "<PIL.PngImagePlugin.PngImageFile image mode=L size=28x28>"
            ],
            "image/png": "[encoded data removed]",
            "image/jpeg": "[encoded data removed]"
          },
          "metadata": {},
          "execution_count": 59
        }
      ],
      "source": [
        "# learner = load_learner('non_adaptive_model.pkl')\n",
        "img = Image.open(((path/'testing'/'8').ls())[0])\n",
        "img"
      ]
    },
    {
      "cell_type": "code",
      "source": [
        "pred, _, prob = learner.predict(img)\n",
        "pred, prob"
      ],
      "metadata": {
        "colab": {
          "base_uri": "https://localhost:8080/",
          "height": 53
        },
        "id": "ch_lEzsi2YU8",
        "outputId": "98e5207f-0e2a-45a0-9633-8133173ec3e7"
      },
      "execution_count": null,
      "outputs": [
        {
          "output_type": "display_data",
          "data": {
            "text/plain": [
              "<IPython.core.display.HTML object>"
            ],
            "text/html": [
              "\n",
              "<style>\n",
              "    /* Turns off some styling */\n",
              "    progress {\n",
              "        /* gets rid of default border in Firefox and Opera. */\n",
              "        border: none;\n",
              "        /* Needs to be in here for Safari polyfill so background images work as expected. */\n",
              "        background-size: auto;\n",
              "    }\n",
              "    progress:not([value]), progress:not([value])::-webkit-progress-bar {\n",
              "        background: repeating-linear-gradient(45deg, #7e7e7e, #7e7e7e 10px, #5c5c5c 10px, #5c5c5c 20px);\n",
              "    }\n",
              "    .progress-bar-interrupted, .progress-bar-interrupted::-webkit-progress-bar {\n",
              "        background: #F44336;\n",
              "    }\n",
              "</style>\n"
            ]
          },
          "metadata": {}
        },
        {
          "output_type": "display_data",
          "data": {
            "text/plain": [
              "<IPython.core.display.HTML object>"
            ],
            "text/html": []
          },
          "metadata": {}
        },
        {
          "output_type": "execute_result",
          "data": {
            "text/plain": [
              "(\"['7', '1', '0', '8', '0', '2', '8', '7', '7', '0']\",\n",
              " tensor([-3.5389,  1.8387, -0.1615, -2.0916,  0.4624,  2.1341, -2.6239, -3.0342,  7.4652,  0.6051]))"
            ]
          },
          "metadata": {},
          "execution_count": 60
        }
      ]
    },
    {
      "cell_type": "markdown",
      "source": [],
      "metadata": {
        "id": "e91Re-Jq7OKs"
      }
    },
    {
      "cell_type": "markdown",
      "metadata": {
        "id": "YDLJNAsZs5BW"
      },
      "source": [
        "# Exercise 2\n",
        "\n",
        "In *chapter_foundations* we introduce Einstein summation notation. Skip ahead to see how this works, and then write an implementation of the 1×1 convolution operation using torch.einsum. Compare it to the same operation using torch.conv2d."
      ]
    },
    {
      "cell_type": "markdown",
      "metadata": {
        "id": "iwyLRlWGt6ZZ"
      },
      "source": [
        "# Exercise 3\n",
        "\n",
        "Write a \"top-5 accuracy\" function using plain PyTorch or plain Python."
      ]
    },
    {
      "cell_type": "code",
      "source": [
        "def top5_accuracy(preds, targets):\n",
        "  probs = torch.softmax(preds, dim=-1) # (Batch, Classes)\n",
        "  top5_idx = torch.topk(probs, 5, dim=-1)[1] # (Batch, 5)\n",
        "  targets = targets.unsqueeze(-1) # (Batch, 1)\n",
        "  in_top5 = (top5_idx == targets).any(dim=1)\n",
        "  return in_top5.float().mean()"
      ],
      "metadata": {
        "id": "wC0h8Qt261Ve"
      },
      "execution_count": null,
      "outputs": []
    },
    {
      "cell_type": "markdown",
      "metadata": {
        "id": "2lQHoBzAt_pE"
      },
      "source": [
        "# Exercise 4\n",
        "\n",
        "Train a model on Imagenette for more epochs, with and without label smoothing. Take a look at the Imagenette leaderboards and see how close you can get to the best results shown. Read the linked pages describing the leading approaches."
      ]
    }
  ],
  "metadata": {
    "accelerator": "GPU",
    "colab": {
      "gpuType": "T4",
      "provenance": [],
      "authorship_tag": "ABX9TyNhWz/yYhfEDTVgcwNv9fBI"
    },
    "kernelspec": {
      "display_name": "Python 3",
      "name": "python3"
    },
    "language_info": {
      "name": "python"
    }
  },
  "nbformat": 4,
  "nbformat_minor": 0
}