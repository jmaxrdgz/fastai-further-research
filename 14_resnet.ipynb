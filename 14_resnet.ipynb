{
  "nbformat": 4,
  "nbformat_minor": 0,
  "metadata": {
    "colab": {
      "provenance": [],
      "gpuType": "T4"
    },
    "kernelspec": {
      "name": "python3",
      "display_name": "Python 3"
    },
    "language_info": {
      "name": "python"
    },
    "accelerator": "GPU"
  },
  "cells": [
    {
      "cell_type": "code",
      "source": [
        "! pip install -Uqq fastbook\n",
        "import fastbook\n",
        "fastbook.setup_book()\n"
      ],
      "metadata": {
        "id": "Qr-F6yCkVK-F"
      },
      "execution_count": 84,
      "outputs": []
    },
    {
      "cell_type": "code",
      "source": [
        "from fastbook import *\n",
        "from fastai.vision.all import *\n",
        "from torchvision.transforms import Grayscale, ToTensor\n",
        "import pandas as pd"
      ],
      "metadata": {
        "id": "hVt-4ZzKVtDs"
      },
      "execution_count": 85,
      "outputs": []
    },
    {
      "cell_type": "markdown",
      "source": [
        "# Exercise 1\n",
        "\n",
        "Try creating a fully convolutional net with adaptive average pooling for MNIST (note that you'll need fewer stride-2 layers). How does it compare to a network without such a pooling layer?"
      ],
      "metadata": {
        "id": "MBx38rpy8T44"
      }
    },
    {
      "cell_type": "markdown",
      "source": [
        "## Import & explore dataset sample"
      ],
      "metadata": {
        "id": "6Ytl8d6Fk5QJ"
      }
    },
    {
      "cell_type": "code",
      "execution_count": 86,
      "metadata": {
        "colab": {
          "base_uri": "https://localhost:8080/"
        },
        "id": "QRbA7yC98Ndf",
        "outputId": "7c95e691-8fa6-49dd-98e0-7cde5fabda03"
      },
      "outputs": [
        {
          "output_type": "execute_result",
          "data": {
            "text/plain": [
              "(#4) [Path('train'),Path('labels.csv'),Path('valid'),Path('models')]"
            ]
          },
          "metadata": {},
          "execution_count": 86
        }
      ],
      "source": [
        "path = untar_data(URLs.MNIST_SAMPLE)\n",
        "Path.BASE_PATH = path\n",
        "path.ls()"
      ]
    },
    {
      "cell_type": "code",
      "source": [
        "three_path = (path/'train'/'3').ls().sorted()\n",
        "image = Image.open(three_path[1])\n",
        "array(image).shape"
      ],
      "metadata": {
        "colab": {
          "base_uri": "https://localhost:8080/"
        },
        "id": "nJ5Nix20WdQX",
        "outputId": "8533433d-b60a-4123-b146-3198b74045df"
      },
      "execution_count": 87,
      "outputs": [
        {
          "output_type": "execute_result",
          "data": {
            "text/plain": [
              "((28, 28), 'L')"
            ]
          },
          "metadata": {},
          "execution_count": 87
        }
      ]
    },
    {
      "cell_type": "code",
      "source": [
        "for num_path in (path/'train').ls():\n",
        "  print(f\"{num_path} : {len((path/'train'/'3').ls().sorted())}\")"
      ],
      "metadata": {
        "colab": {
          "base_uri": "https://localhost:8080/"
        },
        "id": "NEyWqyPSZHdF",
        "outputId": "39093558-eaad-4328-96af-b5cd4850100e"
      },
      "execution_count": 88,
      "outputs": [
        {
          "output_type": "stream",
          "name": "stdout",
          "text": [
            "/root/.fastai/data/mnist_sample/train/3 : 6131\n",
            "/root/.fastai/data/mnist_sample/train/7 : 6131\n"
          ]
        }
      ]
    },
    {
      "cell_type": "markdown",
      "source": [
        "## Creating dataloaders"
      ],
      "metadata": {
        "id": "dvGzYHqwk-zS"
      }
    },
    {
      "cell_type": "code",
      "source": [
        "class ToGrayscale(Transform):\n",
        "    def encodes(self, img: PILImage):\n",
        "        return img.convert('L')"
      ],
      "metadata": {
        "id": "A3hjw-szlNmL"
      },
      "execution_count": 89,
      "outputs": []
    },
    {
      "cell_type": "code",
      "source": [
        "dls = ImageDataLoaders.from_folder(\n",
        "    path,\n",
        "    train='train',\n",
        "    valid='valid',\n",
        "    seed=42,\n",
        "    item_tfms=[Resize(28), ToGrayscale()],\n",
        "    batch_tfms=Normalize.from_stats(0.5, 0.5),\n",
        "    bs=64\n",
        ")"
      ],
      "metadata": {
        "id": "CDEAmWoYYBik"
      },
      "execution_count": 90,
      "outputs": []
    },
    {
      "cell_type": "code",
      "source": [
        "dls.show_batch(max_n=9, figsize=(6, 6), cmap='gray')"
      ],
      "metadata": {
        "colab": {
          "base_uri": "https://localhost:8080/",
          "height": 522
        },
        "id": "sPP68nEraB9B",
        "outputId": "51899e77-2770-4d91-a46b-a8c6f700588f"
      },
      "execution_count": 91,
      "outputs": [
        {
          "output_type": "display_data",
          "data": {
            "text/plain": [
              "<Figure size 600x600 with 9 Axes>"
            ],
            "image/png": "[encoded data removed]"
          },
          "metadata": {}
        }
      ]
    },
    {
      "cell_type": "markdown",
      "source": [
        "## Model definition"
      ],
      "metadata": {
        "id": "4xMWf29_lHxh"
      }
    },
    {
      "cell_type": "code",
      "source": [
        "def get_model(nb_classes):\n",
        "  return nn.Sequential(\n",
        "      nn.Conv2d(1, 16, kernel_size=3, stride=2, padding=1),\n",
        "      nn.Conv2d(16, 32, kernel_size=3, stride=2, padding=1),\n",
        "      nn.Conv2d(32, 64, kernel_size=3, stride=2, padding=1),\n",
        "      nn.AdaptiveAvgPool2d(1),\n",
        "      nn.Flatten(),\n",
        "      nn.Linear(64, nb_classes)\n",
        "  )"
      ],
      "metadata": {
        "id": "FG9x-1nza_nX"
      },
      "execution_count": 92,
      "outputs": []
    },
    {
      "cell_type": "markdown",
      "source": [
        "## Training"
      ],
      "metadata": {
        "id": "bNqXeeI9lJIg"
      }
    },
    {
      "cell_type": "code",
      "source": [
        "nb_classes = 2\n",
        "\n",
        "learner = Learner(dls, get_model(nb_classes), opt_func=SGD, loss_func=F.cross_entropy, metrics=accuracy)\n",
        "learner.lr_find()"
      ],
      "metadata": {
        "colab": {
          "base_uri": "https://localhost:8080/",
          "height": 477
        },
        "id": "JXnLD1CAeQWU",
        "outputId": "70247fe7-1d95-4ce1-c21c-d993e0137cbc"
      },
      "execution_count": 93,
      "outputs": [
        {
          "output_type": "display_data",
          "data": {
            "text/plain": [
              "<IPython.core.display.HTML object>"
            ],
            "text/html": [
              "\n",
              "<style>\n",
              "    /* Turns off some styling */\n",
              "    progress {\n",
              "        /* gets rid of default border in Firefox and Opera. */\n",
              "        border: none;\n",
              "        /* Needs to be in here for Safari polyfill so background images work as expected. */\n",
              "        background-size: auto;\n",
              "    }\n",
              "    progress:not([value]), progress:not([value])::-webkit-progress-bar {\n",
              "        background: repeating-linear-gradient(45deg, #7e7e7e, #7e7e7e 10px, #5c5c5c 10px, #5c5c5c 20px);\n",
              "    }\n",
              "    .progress-bar-interrupted, .progress-bar-interrupted::-webkit-progress-bar {\n",
              "        background: #F44336;\n",
              "    }\n",
              "</style>\n"
            ]
          },
          "metadata": {}
        },
        {
          "output_type": "display_data",
          "data": {
            "text/plain": [
              "<IPython.core.display.HTML object>"
            ],
            "text/html": []
          },
          "metadata": {}
        },
        {
          "output_type": "execute_result",
          "data": {
            "text/plain": [
              "SuggestedLRs(valley=0.02290867641568184)"
            ]
          },
          "metadata": {},
          "execution_count": 93
        },
        {
          "output_type": "display_data",
          "data": {
            "text/plain": [
              "<Figure size 640x480 with 1 Axes>"
            ],
            "image/png": "[encoded data removed]"
          },
          "metadata": {}
        }
      ]
    },
    {
      "cell_type": "code",
      "source": [
        "learner.fit_one_cycle(5, 0.01)"
      ],
      "metadata": {
        "colab": {
          "base_uri": "https://localhost:8080/",
          "height": 206
        },
        "id": "5IqqgZ8Tj7BE",
        "outputId": "035c1995-031d-46bc-9cba-0de776b46d94"
      },
      "execution_count": 94,
      "outputs": [
        {
          "output_type": "display_data",
          "data": {
            "text/plain": [
              "<IPython.core.display.HTML object>"
            ],
            "text/html": [
              "\n",
              "<style>\n",
              "    /* Turns off some styling */\n",
              "    progress {\n",
              "        /* gets rid of default border in Firefox and Opera. */\n",
              "        border: none;\n",
              "        /* Needs to be in here for Safari polyfill so background images work as expected. */\n",
              "        background-size: auto;\n",
              "    }\n",
              "    progress:not([value]), progress:not([value])::-webkit-progress-bar {\n",
              "        background: repeating-linear-gradient(45deg, #7e7e7e, #7e7e7e 10px, #5c5c5c 10px, #5c5c5c 20px);\n",
              "    }\n",
              "    .progress-bar-interrupted, .progress-bar-interrupted::-webkit-progress-bar {\n",
              "        background: #F44336;\n",
              "    }\n",
              "</style>\n"
            ]
          },
          "metadata": {}
        },
        {
          "output_type": "display_data",
          "data": {
            "text/plain": [
              "<IPython.core.display.HTML object>"
            ],
            "text/html": [
              "<table border=\"1\" class=\"dataframe\">\n",
              "  <thead>\n",
              "    <tr style=\"text-align: left;\">\n",
              "      <th>epoch</th>\n",
              "      <th>train_loss</th>\n",
              "      <th>valid_loss</th>\n",
              "      <th>accuracy</th>\n",
              "      <th>time</th>\n",
              "    </tr>\n",
              "  </thead>\n",
              "  <tbody>\n",
              "    <tr>\n",
              "      <td>0</td>\n",
              "      <td>0.681441</td>\n",
              "      <td>0.669850</td>\n",
              "      <td>0.839549</td>\n",
              "      <td>00:32</td>\n",
              "    </tr>\n",
              "    <tr>\n",
              "      <td>1</td>\n",
              "      <td>0.540299</td>\n",
              "      <td>0.453413</td>\n",
              "      <td>0.937193</td>\n",
              "      <td>00:33</td>\n",
              "    </tr>\n",
              "    <tr>\n",
              "      <td>2</td>\n",
              "      <td>0.235624</td>\n",
              "      <td>0.199919</td>\n",
              "      <td>0.947498</td>\n",
              "      <td>00:33</td>\n",
              "    </tr>\n",
              "    <tr>\n",
              "      <td>3</td>\n",
              "      <td>0.175345</td>\n",
              "      <td>0.175359</td>\n",
              "      <td>0.946025</td>\n",
              "      <td>00:33</td>\n",
              "    </tr>\n",
              "    <tr>\n",
              "      <td>4</td>\n",
              "      <td>0.172566</td>\n",
              "      <td>0.173256</td>\n",
              "      <td>0.946025</td>\n",
              "      <td>00:31</td>\n",
              "    </tr>\n",
              "  </tbody>\n",
              "</table>"
            ]
          },
          "metadata": {}
        }
      ]
    },
    {
      "cell_type": "markdown",
      "source": [
        "We obtain 94% precision after 5 epochs, time to evaluate on full MNIST dataset."
      ],
      "metadata": {
        "id": "GCYo5pdGnjy3"
      }
    },
    {
      "cell_type": "markdown",
      "source": [
        "## Using full dataset"
      ],
      "metadata": {
        "id": "c4nEJDxpluih"
      }
    },
    {
      "cell_type": "code",
      "source": [
        "path = untar_data(URLs.MNIST)\n",
        "Path.BASE_PATH = path"
      ],
      "metadata": {
        "id": "6Pw1MQuwlmI_"
      },
      "execution_count": 95,
      "outputs": []
    },
    {
      "cell_type": "code",
      "source": [
        "dls = ImageDataLoaders.from_folder(\n",
        "    path,\n",
        "    train='training',\n",
        "    valid='testing',\n",
        "    seed=42,\n",
        "    item_tfms=[Resize(28), ToGrayscale()],\n",
        "    batch_tfms=Normalize.from_stats(0.5, 0.5),\n",
        "    bs=64\n",
        ")\n",
        "\n",
        "nb_classes = 10\n",
        "\n",
        "learner = Learner(dls, get_model(nb_classes), opt_func=SGD, loss_func=F.cross_entropy, metrics=accuracy)\n",
        "learner.lr_find()"
      ],
      "metadata": {
        "colab": {
          "base_uri": "https://localhost:8080/",
          "height": 477
        },
        "id": "8AfmJAMYmPxD",
        "outputId": "fb42742f-4c68-4c86-dfed-9c6214172124"
      },
      "execution_count": 96,
      "outputs": [
        {
          "output_type": "display_data",
          "data": {
            "text/plain": [
              "<IPython.core.display.HTML object>"
            ],
            "text/html": [
              "\n",
              "<style>\n",
              "    /* Turns off some styling */\n",
              "    progress {\n",
              "        /* gets rid of default border in Firefox and Opera. */\n",
              "        border: none;\n",
              "        /* Needs to be in here for Safari polyfill so background images work as expected. */\n",
              "        background-size: auto;\n",
              "    }\n",
              "    progress:not([value]), progress:not([value])::-webkit-progress-bar {\n",
              "        background: repeating-linear-gradient(45deg, #7e7e7e, #7e7e7e 10px, #5c5c5c 10px, #5c5c5c 20px);\n",
              "    }\n",
              "    .progress-bar-interrupted, .progress-bar-interrupted::-webkit-progress-bar {\n",
              "        background: #F44336;\n",
              "    }\n",
              "</style>\n"
            ]
          },
          "metadata": {}
        },
        {
          "output_type": "display_data",
          "data": {
            "text/plain": [
              "<IPython.core.display.HTML object>"
            ],
            "text/html": []
          },
          "metadata": {}
        },
        {
          "output_type": "execute_result",
          "data": {
            "text/plain": [
              "SuggestedLRs(valley=0.14454397559165955)"
            ]
          },
          "metadata": {},
          "execution_count": 96
        },
        {
          "output_type": "display_data",
          "data": {
            "text/plain": [
              "<Figure size 640x480 with 1 Axes>"
            ],
            "image/png": "[encoded data removed]"
          },
          "metadata": {}
        }
      ]
    },
    {
      "cell_type": "code",
      "source": [
        "learner.fit_one_cycle(5, 0.1)"
      ],
      "metadata": {
        "colab": {
          "base_uri": "https://localhost:8080/",
          "height": 206
        },
        "id": "m8S3AzlkmDEl",
        "outputId": "44368da1-c1ee-4f1e-e411-e972e190ce74"
      },
      "execution_count": 97,
      "outputs": [
        {
          "output_type": "display_data",
          "data": {
            "text/plain": [
              "<IPython.core.display.HTML object>"
            ],
            "text/html": [
              "\n",
              "<style>\n",
              "    /* Turns off some styling */\n",
              "    progress {\n",
              "        /* gets rid of default border in Firefox and Opera. */\n",
              "        border: none;\n",
              "        /* Needs to be in here for Safari polyfill so background images work as expected. */\n",
              "        background-size: auto;\n",
              "    }\n",
              "    progress:not([value]), progress:not([value])::-webkit-progress-bar {\n",
              "        background: repeating-linear-gradient(45deg, #7e7e7e, #7e7e7e 10px, #5c5c5c 10px, #5c5c5c 20px);\n",
              "    }\n",
              "    .progress-bar-interrupted, .progress-bar-interrupted::-webkit-progress-bar {\n",
              "        background: #F44336;\n",
              "    }\n",
              "</style>\n"
            ]
          },
          "metadata": {}
        },
        {
          "output_type": "display_data",
          "data": {
            "text/plain": [
              "<IPython.core.display.HTML object>"
            ],
            "text/html": [
              "<table border=\"1\" class=\"dataframe\">\n",
              "  <thead>\n",
              "    <tr style=\"text-align: left;\">\n",
              "      <th>epoch</th>\n",
              "      <th>train_loss</th>\n",
              "      <th>valid_loss</th>\n",
              "      <th>accuracy</th>\n",
              "      <th>time</th>\n",
              "    </tr>\n",
              "  </thead>\n",
              "  <tbody>\n",
              "    <tr>\n",
              "      <td>0</td>\n",
              "      <td>1.590264</td>\n",
              "      <td>1.535049</td>\n",
              "      <td>0.482800</td>\n",
              "      <td>02:38</td>\n",
              "    </tr>\n",
              "    <tr>\n",
              "      <td>1</td>\n",
              "      <td>1.451017</td>\n",
              "      <td>1.489005</td>\n",
              "      <td>0.509300</td>\n",
              "      <td>02:31</td>\n",
              "    </tr>\n",
              "    <tr>\n",
              "      <td>2</td>\n",
              "      <td>1.361451</td>\n",
              "      <td>1.385753</td>\n",
              "      <td>0.557300</td>\n",
              "      <td>03:26</td>\n",
              "    </tr>\n",
              "    <tr>\n",
              "      <td>3</td>\n",
              "      <td>1.387785</td>\n",
              "      <td>1.367290</td>\n",
              "      <td>0.560400</td>\n",
              "      <td>02:55</td>\n",
              "    </tr>\n",
              "    <tr>\n",
              "      <td>4</td>\n",
              "      <td>1.345592</td>\n",
              "      <td>1.358015</td>\n",
              "      <td>0.561700</td>\n",
              "      <td>03:15</td>\n",
              "    </tr>\n",
              "  </tbody>\n",
              "</table>"
            ]
          },
          "metadata": {}
        }
      ]
    },
    {
      "cell_type": "code",
      "source": [
        "non_adaptive_model = nn.Sequential(\n",
        "      nn.Conv2d(1, 16, kernel_size=3, stride=2, padding=1),\n",
        "      nn.Conv2d(16, 32, kernel_size=3, stride=2, padding=1),\n",
        "      nn.Conv2d(32, 64, kernel_size=3, stride=2, padding=1),\n",
        "      nn.Flatten(),\n",
        "      nn.Linear(64*4*4, nb_classes)\n",
        "  )\n",
        "\n",
        "learner = Learner(dls, non_adaptive_model, opt_func=SGD, loss_func=F.cross_entropy, metrics=accuracy)\n",
        "learner.fit_one_cycle(5, 0.1)"
      ],
      "metadata": {
        "colab": {
          "base_uri": "https://localhost:8080/",
          "height": 206
        },
        "id": "o1HBLsqGo9uU",
        "outputId": "38da376f-6f74-4a85-b7a7-1e8776ed1651"
      },
      "execution_count": 99,
      "outputs": [
        {
          "output_type": "display_data",
          "data": {
            "text/plain": [
              "<IPython.core.display.HTML object>"
            ],
            "text/html": [
              "\n",
              "<style>\n",
              "    /* Turns off some styling */\n",
              "    progress {\n",
              "        /* gets rid of default border in Firefox and Opera. */\n",
              "        border: none;\n",
              "        /* Needs to be in here for Safari polyfill so background images work as expected. */\n",
              "        background-size: auto;\n",
              "    }\n",
              "    progress:not([value]), progress:not([value])::-webkit-progress-bar {\n",
              "        background: repeating-linear-gradient(45deg, #7e7e7e, #7e7e7e 10px, #5c5c5c 10px, #5c5c5c 20px);\n",
              "    }\n",
              "    .progress-bar-interrupted, .progress-bar-interrupted::-webkit-progress-bar {\n",
              "        background: #F44336;\n",
              "    }\n",
              "</style>\n"
            ]
          },
          "metadata": {}
        },
        {
          "output_type": "display_data",
          "data": {
            "text/plain": [
              "<IPython.core.display.HTML object>"
            ],
            "text/html": [
              "<table border=\"1\" class=\"dataframe\">\n",
              "  <thead>\n",
              "    <tr style=\"text-align: left;\">\n",
              "      <th>epoch</th>\n",
              "      <th>train_loss</th>\n",
              "      <th>valid_loss</th>\n",
              "      <th>accuracy</th>\n",
              "      <th>time</th>\n",
              "    </tr>\n",
              "  </thead>\n",
              "  <tbody>\n",
              "    <tr>\n",
              "      <td>0</td>\n",
              "      <td>0.390831</td>\n",
              "      <td>0.327860</td>\n",
              "      <td>0.905000</td>\n",
              "      <td>03:08</td>\n",
              "    </tr>\n",
              "    <tr>\n",
              "      <td>1</td>\n",
              "      <td>0.333704</td>\n",
              "      <td>0.299174</td>\n",
              "      <td>0.918700</td>\n",
              "      <td>03:03</td>\n",
              "    </tr>\n",
              "    <tr>\n",
              "      <td>2</td>\n",
              "      <td>0.285283</td>\n",
              "      <td>0.297030</td>\n",
              "      <td>0.916600</td>\n",
              "      <td>03:11</td>\n",
              "    </tr>\n",
              "    <tr>\n",
              "      <td>3</td>\n",
              "      <td>0.274857</td>\n",
              "      <td>0.275593</td>\n",
              "      <td>0.921500</td>\n",
              "      <td>02:53</td>\n",
              "    </tr>\n",
              "    <tr>\n",
              "      <td>4</td>\n",
              "      <td>0.266816</td>\n",
              "      <td>0.273856</td>\n",
              "      <td>0.921800</td>\n",
              "      <td>02:53</td>\n",
              "    </tr>\n",
              "  </tbody>\n",
              "</table>"
            ]
          },
          "metadata": {}
        }
      ]
    },
    {
      "cell_type": "markdown",
      "source": [
        "In both cases 5 epochs isn't enough to see signs of overfitting.\n",
        "\n",
        "|            | with adaptive pooling | without |\n",
        "|:----------|:----------:|:----------:|\n",
        "| precision (5 epochs) | 56,2% | 92,2% |  \n",
        "  \n",
        "Adaptive average pooling isn't adapted to the MNIST use case as it reduces drastically the features used by the last dense layer to classify the written number."
      ],
      "metadata": {
        "id": "r-kPN6Bcr6we"
      }
    },
    {
      "cell_type": "markdown",
      "source": [
        "# Exercise 2\n",
        "\n",
        "In *chapter_foundations* we introduce Einstein summation notation. Skip ahead to see how this works, and then write an implementation of the 1×1 convolution operation using torch.einsum. Compare it to the same operation using torch.conv2d."
      ],
      "metadata": {
        "id": "YDLJNAsZs5BW"
      }
    },
    {
      "cell_type": "markdown",
      "source": [
        "# Exercise 3\n",
        "\n",
        "Write a \"top-5 accuracy\" function using plain PyTorch or plain Python."
      ],
      "metadata": {
        "id": "iwyLRlWGt6ZZ"
      }
    },
    {
      "cell_type": "markdown",
      "source": [
        "# Exercise 4\n",
        "\n",
        "Train a model on Imagenette for more epochs, with and without label smoothing. Take a look at the Imagenette leaderboards and see how close you can get to the best results shown. Read the linked pages describing the leading approaches."
      ],
      "metadata": {
        "id": "2lQHoBzAt_pE"
      }
    }
  ]
}